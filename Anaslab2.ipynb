{
 "cells": [
  {
   "cell_type": "code",
   "execution_count": 14,
   "metadata": {},
   "outputs": [
    {
     "data": {
      "text/plain": [
       "'2.2.3'"
      ]
     },
     "execution_count": 14,
     "metadata": {},
     "output_type": "execute_result"
    }
   ],
   "source": [
    "import pandas as pd\n",
    "pd.__version__"
   ]
  },
  {
   "cell_type": "code",
   "execution_count": 15,
   "metadata": {},
   "outputs": [
    {
     "name": "stdout",
     "output_type": "stream",
     "text": [
      "Confusion Matrix:\n",
      " [[0 0]\n",
      " [2 1]]\n",
      "Accuracy: 0.3333333333333333\n",
      "Prediction for Overcast and Mild: Yes\n"
     ]
    },
    {
     "name": "stderr",
     "output_type": "stream",
     "text": [
      "d:\\New folder\\Lib\\site-packages\\sklearn\\base.py:493: UserWarning: X does not have valid feature names, but OneHotEncoder was fitted with feature names\n",
      "  warnings.warn(\n"
     ]
    }
   ],
   "source": [
    "import pandas as pd\n",
    "from sklearn.model_selection import train_test_split\n",
    "from sklearn.preprocessing import OneHotEncoder\n",
    "from sklearn.neighbors import KNeighborsClassifier\n",
    "from sklearn.metrics import confusion_matrix, accuracy_score\n",
    "import numpy as np\n",
    "\n",
    "# Sample dataset based on the table\n",
    "data = {\n",
    "    'Weather': ['Sunny', 'Sunny', 'Overcast', 'Rainy', 'Rainy', 'Rainy', 'Overcast', 'Sunny', 'Sunny', 'Rainy', 'Sunny', 'Overcast', 'Overcast', 'Rainy'],\n",
    "    'Temperature': ['Hot', 'Hot', 'Hot', 'Mild', 'Cool', 'Cool', 'Cool', 'Mild', 'Cool', 'Mild', 'Mild', 'Mild', 'Hot', 'Mild'],\n",
    "    'Play': ['No', 'No', 'Yes', 'Yes', 'Yes', 'No', 'Yes', 'No', 'Yes', 'Yes', 'Yes', 'Yes', 'Yes', 'No']\n",
    "}\n",
    "\n",
    "# Convert to DataFrame\n",
    "df = pd.DataFrame(data)\n",
    "\n",
    "# Separate features and target\n",
    "X = df[['Weather', 'Temperature']]\n",
    "y = df['Play'].apply(lambda x: 1 if x == 'Yes' else 0)  # Convert target to binary\n",
    "\n",
    "# One-hot encode the categorical features\n",
    "encoder = OneHotEncoder(sparse_output=False)\n",
    "X_encoded = encoder.fit_transform(X)\n",
    "\n",
    "# Split data into training and test sets\n",
    "X_train, X_test, y_train, y_test = train_test_split(X_encoded, y, test_size=0.2, random_state=0)\n",
    "\n",
    "# Initialize and train the KNN classifier\n",
    "knn = KNeighborsClassifier(n_neighbors=3)  # You can adjust the number of neighbors (k)\n",
    "knn.fit(X_train, y_train)\n",
    "\n",
    "# Predict on the test set\n",
    "y_pred = knn.predict(X_test)\n",
    "\n",
    "# Confusion Matrix and Accuracy\n",
    "conf_matrix = confusion_matrix(y_test, y_pred)\n",
    "accuracy = accuracy_score(y_test, y_pred)\n",
    "\n",
    "# Display results\n",
    "print(\"Confusion Matrix:\\n\", conf_matrix)\n",
    "print(\"Accuracy:\", accuracy)\n",
    "\n",
    "# Predict for 'Overcast' and 'Mild'\n",
    "new_data = encoder.transform([['Overcast', 'Mild']])\n",
    "new_prediction = knn.predict(new_data)\n",
    "print(\"Prediction for Overcast and Mild:\", 'Yes' if new_prediction[0] == 1 else 'No')\n"
   ]
  },
  {
   "cell_type": "code",
   "execution_count": 16,
   "metadata": {},
   "outputs": [
    {
     "name": "stdout",
     "output_type": "stream",
     "text": [
      "Distances to nearest neighbors: [(np.float64(2.8284271247461903), 'ClassB'), (np.float64(4.0), 'ClassB'), (np.float64(4.123105625617661), 'ClassA')]\n",
      "Predicted class for query instance: ClassB\n"
     ]
    }
   ],
   "source": [
    "import numpy as np\n",
    "from collections import Counter\n",
    "\n",
    "# Training data: (X1, X2, Y)\n",
    "# Assume these are the training samples given (replace these with actual data if provided).\n",
    "training_data = [\n",
    "    (1, 1, 'ClassA'),\n",
    "    (2, 3, 'ClassA'),\n",
    "    (3, 3, 'ClassB'),\n",
    "    (5, 5, 'ClassB')\n",
    "]\n",
    "\n",
    "# Query instance (new tissue paper) with X1=3 and X2=7\n",
    "query_instance = (3, 7)\n",
    "\n",
    "# Calculate Euclidean distance between query instance and each training sample\n",
    "distances = []\n",
    "for (x1, x2, label) in training_data:\n",
    "    distance = np.sqrt((x1 - query_instance[0]) ** 2 + (x2 - query_instance[1]) ** 2)\n",
    "    distances.append((distance, label))\n",
    "\n",
    "# Sort by distance and select the 3 nearest neighbors\n",
    "distances.sort(key=lambda x: x[0])\n",
    "nearest_neighbors = distances[:3]\n",
    "\n",
    "# Extract the class labels of the nearest neighbors\n",
    "nearest_labels = [label for _, label in nearest_neighbors]\n",
    "\n",
    "# Determine the majority class\n",
    "prediction = Counter(nearest_labels).most_common(1)[0][0]\n",
    "\n",
    "# Display the result\n",
    "print(\"Distances to nearest neighbors:\", nearest_neighbors)\n",
    "print(\"Predicted class for query instance:\", prediction)\n"
   ]
  },
  {
   "cell_type": "code",
   "execution_count": 17,
   "metadata": {},
   "outputs": [
    {
     "name": "stdout",
     "output_type": "stream",
     "text": [
      "The predicted gender for the new entry [[5.9, 110, 10]] is: female\n"
     ]
    },
    {
     "name": "stderr",
     "output_type": "stream",
     "text": [
      "d:\\New folder\\Lib\\site-packages\\sklearn\\base.py:493: UserWarning: X does not have valid feature names, but DecisionTreeClassifier was fitted with feature names\n",
      "  warnings.warn(\n"
     ]
    }
   ],
   "source": [
    "# Import necessary libraries\n",
    "import pandas as pd\n",
    "from sklearn.tree import DecisionTreeClassifier\n",
    "from sklearn.preprocessing import LabelEncoder\n",
    "\n",
    "# Define the dataset based on the provided table\n",
    "data = {\n",
    "    \"Gender\": [\"male\", \"male\", \"male\", \"male\", \"female\", \"female\", \"female\", \"female\"],\n",
    "    \"Height\": [6.00, 5.92, 5.58, 5.92, 5.00, 5.50, 5.42, 5.75],\n",
    "    \"Weight\": [180, 190, 170, 165, 100, 150, 130, 150],\n",
    "    \"Foot_Size\": [12, 11, 12, 10, 6, 8, 7, 9]\n",
    "}\n",
    "\n",
    "# Convert to DataFrame\n",
    "df = pd.DataFrame(data)\n",
    "\n",
    "# Encode the Gender column to numeric format\n",
    "label_encoder = LabelEncoder()\n",
    "df['Gender'] = label_encoder.fit_transform(df['Gender'])  # Male: 1, Female: 0\n",
    "\n",
    "# Features and target\n",
    "X = df[['Height', 'Weight', 'Foot_Size']]\n",
    "y = df['Gender']\n",
    "\n",
    "# Train a Decision Tree Classifier\n",
    "classifier = DecisionTreeClassifier()\n",
    "classifier.fit(X, y)\n",
    "\n",
    "# Predict for a new entry\n",
    "new_entry = [[5.9, 110, 10]]  # Example new entry\n",
    "prediction = classifier.predict(new_entry)\n",
    "\n",
    "# Decode the prediction back to the original label\n",
    "predicted_gender = label_encoder.inverse_transform(prediction)\n",
    "\n",
    "print(f\"The predicted gender for the new entry {new_entry} is: {predicted_gender[0]}\")\n"
   ]
  },
  {
   "cell_type": "code",
   "execution_count": 18,
   "metadata": {},
   "outputs": [
    {
     "name": "stdout",
     "output_type": "stream",
     "text": [
      "Updated Dataset:\n",
      "   Gender  Height  Weight  Foot_Size\n",
      "0       1    6.00     180         12\n",
      "1       1    5.92     190         11\n",
      "2       1    5.58     170         12\n",
      "3       1    5.92     165         10\n",
      "4       0    5.00     100          6\n",
      "5       0    5.50     150          8\n",
      "6       0    5.42     130          7\n",
      "7       0    5.75     150          9\n",
      "8       1    5.90     160         10\n"
     ]
    },
    {
     "name": "stderr",
     "output_type": "stream",
     "text": [
      "d:\\New folder\\Lib\\site-packages\\sklearn\\base.py:493: UserWarning: X does not have valid feature names, but DecisionTreeClassifier was fitted with feature names\n",
      "  warnings.warn(\n"
     ]
    }
   ],
   "source": [
    "# Import necessary libraries\n",
    "import pandas as pd\n",
    "from sklearn.tree import DecisionTreeClassifier\n",
    "from sklearn.preprocessing import LabelEncoder\n",
    "\n",
    "# Define the dataset based on the provided table\n",
    "data = {\n",
    "    \"Gender\": [\"male\", \"male\", \"male\", \"male\", \"female\", \"female\", \"female\", \"female\"],\n",
    "    \"Height\": [6.00, 5.92, 5.58, 5.92, 5.00, 5.50, 5.42, 5.75],\n",
    "    \"Weight\": [180, 190, 170, 165, 100, 150, 130, 150],\n",
    "    \"Foot_Size\": [12, 11, 12, 10, 6, 8, 7, 9]\n",
    "}\n",
    "\n",
    "# Convert to DataFrame\n",
    "df = pd.DataFrame(data)\n",
    "\n",
    "# Encode the Gender column to numeric format\n",
    "label_encoder = LabelEncoder()\n",
    "df['Gender'] = label_encoder.fit_transform(df['Gender'])  # Male: 1, Female: 0\n",
    "\n",
    "# Features and target\n",
    "X = df[['Height', 'Weight', 'Foot_Size']]\n",
    "y = df['Gender']\n",
    "\n",
    "# Train a Decision Tree Classifier\n",
    "classifier = DecisionTreeClassifier()\n",
    "classifier.fit(X, y)\n",
    "\n",
    "# Predict for a new entry\n",
    "new_entry = [[5.9, 160, 10]]  # Example new entry\n",
    "prediction = classifier.predict(new_entry)\n",
    "\n",
    "# The predicted gender will be in encoded form (1 or 0), so no need to decode it before adding\n",
    "predicted_gender = prediction[0]  # 1 for male, 0 for female\n",
    "\n",
    "# Add the new entry to the dataset with the encoded gender value\n",
    "new_row = {\n",
    "    \"Gender\": predicted_gender,  # Add encoded gender directly\n",
    "    \"Height\": new_entry[0][0],\n",
    "    \"Weight\": new_entry[0][1],\n",
    "    \"Foot_Size\": new_entry[0][2]\n",
    "}\n",
    "df = pd.concat([df, pd.DataFrame([new_row])], ignore_index=True)\n",
    "\n",
    "# Retrain the classifier with the updated dataset\n",
    "X_updated = df[['Height', 'Weight', 'Foot_Size']]\n",
    "y_updated = df['Gender']\n",
    "classifier.fit(X_updated, y_updated)\n",
    "\n",
    "# Display the updated dataset\n",
    "print(\"Updated Dataset:\")\n",
    "print(df)\n",
    "\n"
   ]
  },
  {
   "cell_type": "code",
   "execution_count": 19,
   "metadata": {},
   "outputs": [
    {
     "name": "stdout",
     "output_type": "stream",
     "text": [
      "Updated Dataset:\n",
      "[['1' '6.0' '180.0' '12.0']\n",
      " ['1' '5.92' '190.0' '11.0']\n",
      " ['1' '5.58' '170.0' '12.0']\n",
      " ['1' '5.92' '165.0' '10.0']\n",
      " ['0' '5.0' '100.0' '6.0']\n",
      " ['0' '5.5' '150.0' '8.0']\n",
      " ['0' '5.42' '130.0' '7.0']\n",
      " ['0' '5.75' '150.0' '9.0']\n",
      " ['1' '5.9' '160' '10']]\n"
     ]
    }
   ],
   "source": [
    "import numpy as np\n",
    "from sklearn.tree import DecisionTreeClassifier\n",
    "from sklearn.preprocessing import LabelEncoder\n",
    "\n",
    "# Define the dataset using numpy arrays\n",
    "gender = np.array([\"male\", \"male\", \"male\", \"male\", \"female\", \"female\", \"female\", \"female\"])\n",
    "height = np.array([6.00, 5.92, 5.58, 5.92, 5.00, 5.50, 5.42, 5.75])\n",
    "weight = np.array([180, 190, 170, 165, 100, 150, 130, 150])\n",
    "foot_size = np.array([12, 11, 12, 10, 6, 8, 7, 9])\n",
    "\n",
    "# Encode the Gender column to numeric values (male = 1, female = 0)\n",
    "label_encoder = LabelEncoder()\n",
    "encoded_gender = label_encoder.fit_transform(gender)  # Male: 1, Female: 0\n",
    "\n",
    "# Stack the features into a single 2D numpy array (X)\n",
    "X = np.column_stack((height, weight, foot_size))\n",
    "\n",
    "# Create and train the Decision Tree classifier\n",
    "classifier = DecisionTreeClassifier()\n",
    "classifier.fit(X, encoded_gender)\n",
    "\n",
    "# Predict for a new entry\n",
    "new_entry = np.array([[5.9, 160, 10]])  # Example new entry (Height, Weight, Foot_Size)\n",
    "prediction = classifier.predict(new_entry)\n",
    "\n",
    "# Decode the predicted gender back to original label\n",
    "predicted_gender = label_encoder.inverse_transform(prediction)[0]\n",
    "\n",
    "# Add the new entry to the dataset manually (not using pandas)\n",
    "# Adding the predicted gender and new entry\n",
    "new_entry_with_gender = np.array([predicted_gender, 5.9, 160, 10])\n",
    "\n",
    "# Update the dataset (by creating a new dataset with the new entry)\n",
    "X_updated = np.vstack((X, new_entry_with_gender[1:]))  # Add new features\n",
    "encoded_gender_updated = np.append(encoded_gender, prediction)  # Add the predicted gender\n",
    "\n",
    "# Retrain the classifier with the updated dataset\n",
    "classifier.fit(X_updated, encoded_gender_updated)\n",
    "\n",
    "# Display the updated dataset (gender, height, weight, foot_size)\n",
    "print(\"Updated Dataset:\")\n",
    "updated_data = np.column_stack((encoded_gender_updated, X_updated))  # Combine the gender with features\n",
    "print(updated_data)\n"
   ]
  },
  {
   "cell_type": "code",
   "execution_count": 20,
   "metadata": {},
   "outputs": [
    {
     "name": "stdout",
     "output_type": "stream",
     "text": [
      "The student with age 19 and study hours 4 will Pass.\n"
     ]
    }
   ],
   "source": [
    "import numpy as np\n",
    "from sklearn.tree import DecisionTreeClassifier\n",
    "from sklearn.preprocessing import LabelEncoder\n",
    "\n",
    "# Dataset: Age, Study Hours, Test Score, Pass/Fail\n",
    "age = np.array([18, 20, 22, 19, 21, 23, 20, 18])\n",
    "study_hours = np.array([5, 3, 8, 2, 6, 9, 4, 3])\n",
    "test_score = np.array([55, 45, 75, 40, 60, 85, 50, 30])\n",
    "\n",
    "# Convert Pass/Fail to numeric labels: Pass = 1, Fail = 0\n",
    "pass_fail = np.array([\"Pass\", \"Fail\", \"Pass\", \"Fail\", \"Pass\", \"Pass\", \"Pass\", \"Fail\"])\n",
    "\n",
    "label_encoder = LabelEncoder()\n",
    "encoded_pass_fail = label_encoder.fit_transform(pass_fail)  # Pass: 1, Fail: 0\n",
    "\n",
    "# Combine features into a single 2D numpy array (X)\n",
    "X = np.column_stack((age, study_hours))\n",
    "\n",
    "# Create and train the Decision Tree classifier\n",
    "classifier = DecisionTreeClassifier()\n",
    "classifier.fit(X, encoded_pass_fail)\n",
    "\n",
    "# Predict for a new student with age = 19 and study_hours = 4\n",
    "new_student = np.array([[19, 4]])\n",
    "prediction = classifier.predict(new_student)\n",
    "\n",
    "# Decode the predicted label back to \"Pass\"/\"Fail\"\n",
    "predicted_result = label_encoder.inverse_transform(prediction)[0]\n",
    "\n",
    "# Display the result\n",
    "print(f\"The student with age 19 and study hours 4 will {predicted_result}.\")\n"
   ]
  },
  {
   "cell_type": "code",
   "execution_count": 21,
   "metadata": {},
   "outputs": [
    {
     "data": {
      "image/png": "[encoded data removed]",
      "text/plain": [
       "<Figure size 640x480 with 1 Axes>"
      ]
     },
     "metadata": {},
     "output_type": "display_data"
    },
    {
     "name": "stdout",
     "output_type": "stream",
     "text": [
      "\n",
      "The predicted price for a home with an area of 3500 sq ft is 655873.29.\n"
     ]
    }
   ],
   "source": [
    "import pandas as pd\n",
    "import numpy as np\n",
    "from sklearn.linear_model import LinearRegression\n",
    "import matplotlib.pyplot as plt\n",
    "\n",
    "# Step 1: Load the dataset from the .xlsx file\n",
    "# Replace 'homeprices.xlsx' with your actual file path\n",
    "data = pd.read_excel(\"homeprices.xlsx\")\n",
    "\n",
    "# Step 2: Prepare the features (Area) and target (Price)\n",
    "X = data[['Area']].values  # Features (2D array)\n",
    "y = data['Price'].values   # Target (1D array)\n",
    "\n",
    "# Step 3: Create and train the Linear Regression model\n",
    "model = LinearRegression()\n",
    "model.fit(X, y)\n",
    "\n",
    "# Step 4: Predict prices for the areas in the dataset\n",
    "predicted_prices = model.predict(X)\n",
    "\n",
    "# Step 5: Visualize the data and the regression line\n",
    "plt.scatter(X, y, color='blue', label='Actual Prices')  # Plot actual data points\n",
    "plt.plot(X, predicted_prices, color='red', label='Regression Line')  # Plot regression line\n",
    "plt.title('Home Prices Prediction')\n",
    "plt.xlabel('Area (sq ft)')\n",
    "plt.ylabel('Price')\n",
    "plt.legend()\n",
    "plt.grid(True)\n",
    "plt.show()\n",
    "\n",
    "# Step 6: Predict price for a new area (e.g., 3500 sq ft)\n",
    "new_area = np.array([[3500]])  # Replace with the desired area\n",
    "predicted_price_for_new_area = model.predict(new_area)\n",
    "print(f\"\\nThe predicted price for a home with an area of 3500 sq ft is {predicted_price_for_new_area[0]:.2f}.\")\n"
   ]
  },
  {
   "cell_type": "code",
   "execution_count": null,
   "metadata": {},
   "outputs": [],
   "source": [
    "import numpy as np\n",
    "from sklearn.linear_model import LinearRegression\n",
    "import matplotlib.pyplot as plt\n",
    "\n",
    "# Table 1 data\n",
    "areas = np.array([2600, 3000, 3200, 3600, 4000]).reshape(-1, 1)  # Feature: Area in sq ft\n",
    "prices = np.array([550000, 565000, 610000, 680000, 725000])  # Target: Price\n",
    "\n",
    "# Step 1: Train the Linear Regression model\n",
    "model = LinearRegression()\n",
    "model.fit(areas, prices)\n",
    "\n",
    "# Step 2: Predict prices for specific areas\n",
    "new_areas = np.array([[5000], [8000], [9000]])  # Areas for prediction\n",
    "predicted_prices = model.predict(new_areas)\n",
    "\n",
    "# Step 3: Print predictions\n",
    "for area, predicted_price in zip(new_areas.flatten(), predicted_prices):\n",
    "    print(f\"The predicted price for a home with an area of {area} sq ft is {predicted_price:.2f}\")\n",
    "\n",
    "# Step 4: Visualize the data and predictions\n",
    "plt.scatter(areas, prices, color='blue', label='Actual Prices')  # Actual data points\n",
    "plt.plot(areas, model.predict(areas), color='red', label='Regression Line')  # Regression line\n",
    "\n",
    "# Highlight predictions\n",
    "plt.scatter(new_areas, predicted_prices, color='green', label='Predicted Prices')\n",
    "for area, predicted_price in zip(new_areas.flatten(), predicted_prices):\n",
    "    plt.text(area, predicted_price, f'  {predicted_price:.2f}', color='green')\n",
    "\n",
    "# Graph labels and legend\n",
    "plt.title('Home Prices Prediction')\n",
    "plt.xlabel('Area (sq ft)')\n",
    "plt.ylabel('Price')\n",
    "plt.legend()\n",
    "plt.grid(True)\n",
    "plt.show()\n"
   ]
  },
  {
   "cell_type": "code",
   "execution_count": 22,
   "metadata": {},
   "outputs": [
    {
     "name": "stdout",
     "output_type": "stream",
     "text": [
      "employees.csv has been created.\n",
      "Empty DataFrame\n",
      "Columns: [EmployeeID, Name, Gender, Department, Position, Salary]\n",
      "Index: []\n"
     ]
    },
    {
     "name": "stderr",
     "output_type": "stream",
     "text": [
      "C:\\Users\\user\\AppData\\Local\\Temp\\ipykernel_12516\\4204078198.py:25: FutureWarning: A value is trying to be set on a copy of a DataFrame or Series through chained assignment using an inplace method.\n",
      "The behavior will change in pandas 3.0. This inplace method will never work because the intermediate object on which we are setting values always behaves as a copy.\n",
      "\n",
      "For example, when doing 'df[col].method(value, inplace=True)', try using 'df.method({col: value}, inplace=True)' or df[col] = df[col].method(value) instead, to perform the operation inplace on the original object.\n",
      "\n",
      "\n",
      "  df['Gender'].fillna(\"No Gender\", inplace=True)\n"
     ]
    }
   ],
   "source": [
    "import pandas as pd\n",
    "\n",
    "# Sample data\n",
    "data = {\n",
    "    'EmployeeID': [1, 2, 3, 4, 5],\n",
    "    'Name': ['John Doe', 'Jane Smith', 'Alex Wong', 'Maria Lee', 'Tom Brown'],\n",
    "    'Gender': ['Male', 'Female', None, 'Female', None],\n",
    "    'Department': ['HR', 'IT', 'Finance', 'Marketing', 'Sales'],\n",
    "    'Position': ['Manager', 'Developer', 'Analyst', 'Executive', 'Associate'],\n",
    "    'Salary': [50000, 60000, 55000, 52000, 45000]\n",
    "}\n",
    "\n",
    "# Create a DataFrame and save it as 'employees.csv'\n",
    "df = pd.DataFrame(data)\n",
    "df.to_csv(\"employees.csv\", index=False)\n",
    "print(\"employees.csv has been created.\")\n",
    "\n",
    "\n",
    "\n",
    "\n",
    "# Load the CSV file into a DataFrame\n",
    "df = pd.read_csv(\"employees.csv\")\n",
    "\n",
    "# Fill null values in the 'Gender' column with \"No Gender\"\n",
    "df['Gender'].fillna(\"No Gender\", inplace=True)\n",
    "\n",
    "# Print the first 10 to 30 rows of the DataFrame\n",
    "print(df.iloc[10:30])\n",
    "\n",
    "\n",
    "\n",
    "\n",
    "\n"
   ]
  },
  {
   "cell_type": "code",
   "execution_count": 23,
   "metadata": {},
   "outputs": [
    {
     "name": "stdout",
     "output_type": "stream",
     "text": [
      "        Math  Science  History  English\n",
      "Ali       85       90       75       88\n",
      "Amir      78       82       80       91\n",
      "Kamran    92       88       84       77\n",
      "Sara      70       75       88       90\n",
      "Zain      89       94       86       85\n"
     ]
    }
   ],
   "source": [
    "import pandas as pd\n",
    "\n",
    "# Define column headers (subjects) and index values (names)\n",
    "columns = ['Math', 'Science', 'History', 'English']\n",
    "index = ['Ali', 'Amir', 'Kamran', 'Sara', 'Zain']\n",
    "\n",
    "# Create sample data for each subject (random scores, for example)\n",
    "data = [\n",
    "    [85, 90, 75, 88],\n",
    "    [78, 82, 80, 91],\n",
    "    [92, 88, 84, 77],\n",
    "    [70, 75, 88, 90],\n",
    "    [89, 94, 86, 85]\n",
    "]\n",
    "\n",
    "# Create the DataFrame\n",
    "df = pd.DataFrame(data, columns=columns, index=index)\n",
    "\n",
    "# Display the DataFrame\n",
    "print(df)\n"
   ]
  },
  {
   "cell_type": "code",
   "execution_count": 24,
   "metadata": {},
   "outputs": [
    {
     "name": "stdout",
     "output_type": "stream",
     "text": [
      "   Unnamed: 0  Unnamed: 1    name  Roll no\n",
      "0         NaN         NaN    Anas      163\n",
      "1         NaN         NaN   talha       68\n",
      "2         NaN         NaN  muneeb       78\n",
      "3         NaN         NaN  salman       91\n"
     ]
    }
   ],
   "source": [
    "import pandas as pd\n",
    "\n",
    "\n",
    "file_path = 'AILAB2SHEET.xlsx' \n",
    "df = pd.read_excel(file_path)\n",
    "\n",
    "\n",
    "print(df.iloc[:, :4])"
   ]
  },
  {
   "cell_type": "code",
   "execution_count": 25,
   "metadata": {},
   "outputs": [
    {
     "name": "stdout",
     "output_type": "stream",
     "text": [
      "   Unnamed: 0  Unnamed: 1   talha  68  maths  72\n",
      "0         NaN         NaN  muneeb  78  maths  82\n",
      "1         NaN         NaN  salman  91  maths  65\n"
     ]
    }
   ],
   "source": [
    "import pandas as pd\n",
    "\n",
    "# Load the Excel file, skipping the first two rows\n",
    "file_path = 'AILAB2SHEET.xlsx'  # Replace with the path to your Excel file\n",
    "df = pd.read_excel(file_path, skiprows=2)\n",
    "\n",
    "# Print the DataFrame\n",
    "print(df)\n"
   ]
  },
  {
   "cell_type": "code",
   "execution_count": 26,
   "metadata": {},
   "outputs": [
    {
     "name": "stdout",
     "output_type": "stream",
     "text": [
      "Sheet names: ['Student', 'Teacher']\n",
      "\n",
      "Sheet 1 Data:\n",
      "   Unnamed: 0  Unnamed: 1    name  Roll no subject  Marks\n",
      "0         NaN         NaN    Anas      163   maths     96\n",
      "1         NaN         NaN   talha       68   maths     72\n",
      "2         NaN         NaN  muneeb       78   maths     82\n",
      "3         NaN         NaN  salman       91   maths     65\n",
      "\n",
      "Sheet 2 Data:\n",
      "   Unnamed: 0  Unnamed: 1     name  Subject       department Faculty\n",
      "0         NaN         NaN    saira    maths         software      HR\n",
      "1         NaN         NaN   yousuf  science       BioMedical      CR\n",
      "2         NaN         NaN  sameena  physics  Applied Physics      DR\n",
      "3         NaN         NaN  noureen     itse         Computer      AR\n"
     ]
    }
   ],
   "source": [
    "import pandas as pd\n",
    "\n",
    "# Load the Excel file\n",
    "file_path = 'AILAB2SHEET.xlsx'  # Replace with the path to your Excel file\n",
    "excel_data = pd.ExcelFile(file_path)\n",
    "\n",
    "# Print the names of all sheets\n",
    "print(\"Sheet names:\", excel_data.sheet_names)\n",
    "\n",
    "# Load each sheet into a DataFrame and print them\n",
    "sheet1 = excel_data.parse(excel_data.sheet_names[0])\n",
    "sheet2 = excel_data.parse(excel_data.sheet_names[1])\n",
    "\n",
    "print(\"\\nSheet 1 Data:\")\n",
    "print(sheet1)\n",
    "\n",
    "print(\"\\nSheet 2 Data:\")\n",
    "print(sheet2)\n"
   ]
  }
 ],
 "metadata": {
  "kernelspec": {
   "display_name": "Python 3",
   "language": "python",
   "name": "python3"
  },
  "language_info": {
   "codemirror_mode": {
    "name": "ipython",
    "version": 3
   },
   "file_extension": ".py",
   "mimetype": "text/x-python",
   "name": "python",
   "nbconvert_exporter": "python",
   "pygments_lexer": "ipython3",
   "version": "3.13.0"
  }
 },
 "nbformat": 4,
 "nbformat_minor": 2
}
