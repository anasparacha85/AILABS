{
 "cells": [
  {
   "cell_type": "code",
   "execution_count": 3,
   "metadata": {},
   "outputs": [
    {
     "data": {
      "text/plain": [
       "'2.2.3'"
      ]
     },
     "execution_count": 3,
     "metadata": {},
     "output_type": "execute_result"
    }
   ],
   "source": [
    "import pandas as pd\n",
    "pd.__version__"
   ]
  },
  {
   "cell_type": "code",
   "execution_count": 4,
   "metadata": {},
   "outputs": [
    {
     "name": "stdout",
     "output_type": "stream",
     "text": [
      "Confusion Matrix:\n",
      " [[0 0]\n",
      " [2 1]]\n",
      "Accuracy: 0.3333333333333333\n",
      "Prediction for Overcast and Mild: Yes\n"
     ]
    },
    {
     "name": "stderr",
     "output_type": "stream",
     "text": [
      "d:\\New folder\\Lib\\site-packages\\sklearn\\base.py:493: UserWarning: X does not have valid feature names, but OneHotEncoder was fitted with feature names\n",
      "  warnings.warn(\n"
     ]
    }
   ],
   "source": [
    "import pandas as pd\n",
    "from sklearn.model_selection import train_test_split\n",
    "from sklearn.preprocessing import OneHotEncoder\n",
    "from sklearn.neighbors import KNeighborsClassifier\n",
    "from sklearn.metrics import confusion_matrix, accuracy_score\n",
    "import numpy as np\n",
    "\n",
    "# Sample dataset based on the table\n",
    "data = {\n",
    "    'Weather': ['Sunny', 'Sunny', 'Overcast', 'Rainy', 'Rainy', 'Rainy', 'Overcast', 'Sunny', 'Sunny', 'Rainy', 'Sunny', 'Overcast', 'Overcast', 'Rainy'],\n",
    "    'Temperature': ['Hot', 'Hot', 'Hot', 'Mild', 'Cool', 'Cool', 'Cool', 'Mild', 'Cool', 'Mild', 'Mild', 'Mild', 'Hot', 'Mild'],\n",
    "    'Play': ['No', 'No', 'Yes', 'Yes', 'Yes', 'No', 'Yes', 'No', 'Yes', 'Yes', 'Yes', 'Yes', 'Yes', 'No']\n",
    "}\n",
    "\n",
    "# Convert to DataFrame\n",
    "df = pd.DataFrame(data)\n",
    "\n",
    "# Separate features and target\n",
    "X = df[['Weather', 'Temperature']]\n",
    "y = df['Play'].apply(lambda x: 1 if x == 'Yes' else 0)  # Convert target to binary\n",
    "\n",
    "# One-hot encode the categorical features\n",
    "encoder = OneHotEncoder(sparse_output=False)\n",
    "X_encoded = encoder.fit_transform(X)\n",
    "\n",
    "# Split data into training and test sets\n",
    "X_train, X_test, y_train, y_test = train_test_split(X_encoded, y, test_size=0.2, random_state=0)\n",
    "\n",
    "# Initialize and train the KNN classifier\n",
    "knn = KNeighborsClassifier(n_neighbors=3)  # You can adjust the number of neighbors (k)\n",
    "knn.fit(X_train, y_train)\n",
    "\n",
    "# Predict on the test set\n",
    "y_pred = knn.predict(X_test)\n",
    "\n",
    "# Confusion Matrix and Accuracy\n",
    "conf_matrix = confusion_matrix(y_test, y_pred)\n",
    "accuracy = accuracy_score(y_test, y_pred)\n",
    "\n",
    "# Display results\n",
    "print(\"Confusion Matrix:\\n\", conf_matrix)\n",
    "print(\"Accuracy:\", accuracy)\n",
    "\n",
    "# Predict for 'Overcast' and 'Mild'\n",
    "new_data = encoder.transform([['Overcast', 'Mild']])\n",
    "new_prediction = knn.predict(new_data)\n",
    "print(\"Prediction for Overcast and Mild:\", 'Yes' if new_prediction[0] == 1 else 'No')\n"
   ]
  },
  {
   "cell_type": "code",
   "execution_count": null,
   "metadata": {},
   "outputs": [],
   "source": [
    "import numpy as np\n",
    "from collections import Counter\n",
    "\n",
    "# Training data: (X1, X2, Y)\n",
    "# Assume these are the training samples given (replace these with actual data if provided).\n",
    "training_data = [\n",
    "    (1, 1, 'ClassA'),\n",
    "    (2, 3, 'ClassA'),\n",
    "    (3, 3, 'ClassB'),\n",
    "    (5, 5, 'ClassB')\n",
    "]\n",
    "\n",
    "# Query instance (new tissue paper) with X1=3 and X2=7\n",
    "query_instance = (3, 7)\n",
    "\n",
    "# Calculate Euclidean distance between query instance and each training sample\n",
    "distances = []\n",
    "for (x1, x2, label) in training_data:\n",
    "    distance = np.sqrt((x1 - query_instance[0]) ** 2 + (x2 - query_instance[1]) ** 2)\n",
    "    distances.append((distance, label))\n",
    "\n",
    "# Sort by distance and select the 3 nearest neighbors\n",
    "distances.sort(key=lambda x: x[0])\n",
    "nearest_neighbors = distances[:3]\n",
    "\n",
    "# Extract the class labels of the nearest neighbors\n",
    "nearest_labels = [label for _, label in nearest_neighbors]\n",
    "\n",
    "# Determine the majority class\n",
    "prediction = Counter(nearest_labels).most_common(1)[0][0]\n",
    "\n",
    "# Display the result\n",
    "print(\"Distances to nearest neighbors:\", nearest_neighbors)\n",
    "print(\"Predicted class for query instance:\", prediction)\n"
   ]
  },
  {
   "cell_type": "code",
   "execution_count": 5,
   "metadata": {},
   "outputs": [
    {
     "name": "stdout",
     "output_type": "stream",
     "text": [
      "employees.csv has been created.\n",
      "Empty DataFrame\n",
      "Columns: [EmployeeID, Name, Gender, Department, Position, Salary]\n",
      "Index: []\n"
     ]
    },
    {
     "name": "stderr",
     "output_type": "stream",
     "text": [
      "C:\\Users\\user\\AppData\\Local\\Temp\\ipykernel_1284\\4204078198.py:25: FutureWarning: A value is trying to be set on a copy of a DataFrame or Series through chained assignment using an inplace method.\n",
      "The behavior will change in pandas 3.0. This inplace method will never work because the intermediate object on which we are setting values always behaves as a copy.\n",
      "\n",
      "For example, when doing 'df[col].method(value, inplace=True)', try using 'df.method({col: value}, inplace=True)' or df[col] = df[col].method(value) instead, to perform the operation inplace on the original object.\n",
      "\n",
      "\n",
      "  df['Gender'].fillna(\"No Gender\", inplace=True)\n"
     ]
    }
   ],
   "source": [
    "import pandas as pd\n",
    "\n",
    "# Sample data\n",
    "data = {\n",
    "    'EmployeeID': [1, 2, 3, 4, 5],\n",
    "    'Name': ['John Doe', 'Jane Smith', 'Alex Wong', 'Maria Lee', 'Tom Brown'],\n",
    "    'Gender': ['Male', 'Female', None, 'Female', None],\n",
    "    'Department': ['HR', 'IT', 'Finance', 'Marketing', 'Sales'],\n",
    "    'Position': ['Manager', 'Developer', 'Analyst', 'Executive', 'Associate'],\n",
    "    'Salary': [50000, 60000, 55000, 52000, 45000]\n",
    "}\n",
    "\n",
    "# Create a DataFrame and save it as 'employees.csv'\n",
    "df = pd.DataFrame(data)\n",
    "df.to_csv(\"employees.csv\", index=False)\n",
    "print(\"employees.csv has been created.\")\n",
    "\n",
    "\n",
    "\n",
    "\n",
    "# Load the CSV file into a DataFrame\n",
    "df = pd.read_csv(\"employees.csv\")\n",
    "\n",
    "# Fill null values in the 'Gender' column with \"No Gender\"\n",
    "df['Gender'].fillna(\"No Gender\", inplace=True)\n",
    "\n",
    "# Print the first 10 to 30 rows of the DataFrame\n",
    "print(df.iloc[10:30])\n",
    "\n",
    "\n",
    "\n",
    "\n",
    "\n"
   ]
  },
  {
   "cell_type": "code",
   "execution_count": 6,
   "metadata": {},
   "outputs": [
    {
     "name": "stdout",
     "output_type": "stream",
     "text": [
      "        Math  Science  History  English\n",
      "Ali       85       90       75       88\n",
      "Amir      78       82       80       91\n",
      "Kamran    92       88       84       77\n",
      "Sara      70       75       88       90\n",
      "Zain      89       94       86       85\n"
     ]
    }
   ],
   "source": [
    "import pandas as pd\n",
    "\n",
    "# Define column headers (subjects) and index values (names)\n",
    "columns = ['Math', 'Science', 'History', 'English']\n",
    "index = ['Ali', 'Amir', 'Kamran', 'Sara', 'Zain']\n",
    "\n",
    "# Create sample data for each subject (random scores, for example)\n",
    "data = [\n",
    "    [85, 90, 75, 88],\n",
    "    [78, 82, 80, 91],\n",
    "    [92, 88, 84, 77],\n",
    "    [70, 75, 88, 90],\n",
    "    [89, 94, 86, 85]\n",
    "]\n",
    "\n",
    "# Create the DataFrame\n",
    "df = pd.DataFrame(data, columns=columns, index=index)\n",
    "\n",
    "# Display the DataFrame\n",
    "print(df)\n"
   ]
  },
  {
   "cell_type": "code",
   "execution_count": 7,
   "metadata": {},
   "outputs": [
    {
     "name": "stdout",
     "output_type": "stream",
     "text": [
      "   Unnamed: 0  Unnamed: 1    name  Roll no\n",
      "0         NaN         NaN    Anas      163\n",
      "1         NaN         NaN   talha       68\n",
      "2         NaN         NaN  muneeb       78\n",
      "3         NaN         NaN  salman       91\n"
     ]
    }
   ],
   "source": [
    "import pandas as pd\n",
    "\n",
    "\n",
    "file_path = 'AILAB2SHEET.xlsx' \n",
    "df = pd.read_excel(file_path)\n",
    "\n",
    "\n",
    "print(df.iloc[:, :4])"
   ]
  },
  {
   "cell_type": "code",
   "execution_count": 8,
   "metadata": {},
   "outputs": [
    {
     "name": "stdout",
     "output_type": "stream",
     "text": [
      "   Unnamed: 0  Unnamed: 1   talha  68  maths  72\n",
      "0         NaN         NaN  muneeb  78  maths  82\n",
      "1         NaN         NaN  salman  91  maths  65\n"
     ]
    }
   ],
   "source": [
    "import pandas as pd\n",
    "\n",
    "# Load the Excel file, skipping the first two rows\n",
    "file_path = 'AILAB2SHEET.xlsx'  # Replace with the path to your Excel file\n",
    "df = pd.read_excel(file_path, skiprows=2)\n",
    "\n",
    "# Print the DataFrame\n",
    "print(df)\n"
   ]
  },
  {
   "cell_type": "code",
   "execution_count": 9,
   "metadata": {},
   "outputs": [
    {
     "name": "stdout",
     "output_type": "stream",
     "text": [
      "Sheet names: ['Student', 'Teacher']\n",
      "\n",
      "Sheet 1 Data:\n",
      "   Unnamed: 0  Unnamed: 1    name  Roll no subject  Marks\n",
      "0         NaN         NaN    Anas      163   maths     96\n",
      "1         NaN         NaN   talha       68   maths     72\n",
      "2         NaN         NaN  muneeb       78   maths     82\n",
      "3         NaN         NaN  salman       91   maths     65\n",
      "\n",
      "Sheet 2 Data:\n",
      "   Unnamed: 0  Unnamed: 1     name  Subject       department Faculty\n",
      "0         NaN         NaN    saira    maths         software      HR\n",
      "1         NaN         NaN   yousuf  science       BioMedical      CR\n",
      "2         NaN         NaN  sameena  physics  Applied Physics      DR\n",
      "3         NaN         NaN  noureen     itse         Computer      AR\n"
     ]
    }
   ],
   "source": [
    "import pandas as pd\n",
    "\n",
    "# Load the Excel file\n",
    "file_path = 'AILAB2SHEET.xlsx'  # Replace with the path to your Excel file\n",
    "excel_data = pd.ExcelFile(file_path)\n",
    "\n",
    "# Print the names of all sheets\n",
    "print(\"Sheet names:\", excel_data.sheet_names)\n",
    "\n",
    "# Load each sheet into a DataFrame and print them\n",
    "sheet1 = excel_data.parse(excel_data.sheet_names[0])\n",
    "sheet2 = excel_data.parse(excel_data.sheet_names[1])\n",
    "\n",
    "print(\"\\nSheet 1 Data:\")\n",
    "print(sheet1)\n",
    "\n",
    "print(\"\\nSheet 2 Data:\")\n",
    "print(sheet2)\n"
   ]
  }
 ],
 "metadata": {
  "kernelspec": {
   "display_name": "Python 3",
   "language": "python",
   "name": "python3"
  },
  "language_info": {
   "codemirror_mode": {
    "name": "ipython",
    "version": 3
   },
   "file_extension": ".py",
   "mimetype": "text/x-python",
   "name": "python",
   "nbconvert_exporter": "python",
   "pygments_lexer": "ipython3",
   "version": "3.13.0"
  }
 },
 "nbformat": 4,
 "nbformat_minor": 2
}
